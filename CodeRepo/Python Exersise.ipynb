{
 "cells": [
  {
   "cell_type": "markdown",
   "metadata": {},
   "source": [
    "### Python Exercise"
   ]
  },
  {
   "cell_type": "markdown",
   "metadata": {},
   "source": [
    "#### Instructions\n",
    "Create a function in Python that takes a string, converts it to upper, sorts it and \n",
    "then take the ordinal of each element of the string and add it to a list. \n",
    "\n",
    "Output the final list. \n",
    "\n",
    "Once your function runs, optimize it to make it more efficient. Present"
   ]
  },
  {
   "cell_type": "code",
   "execution_count": 1,
   "metadata": {},
   "outputs": [],
   "source": [
    "def string_to_ordinal(txt):\n",
    "    ''' takes a string, converts to upper case, sorts it and converts characters to its ordinal values.\n",
    "        returns a list of representative ordinal values.'''\n",
    "    \n",
    "    # convert string to upper, strip white space, and sort\n",
    "    # remove .strip() if white space is to be preserved\n",
    "    txt_u = ''.join(sorted(txt)).upper().strip()\n",
    "    \n",
    "    ordinals = list()\n",
    "    \n",
    "    for char in txt_u:\n",
    "        ordinals.append((ord(char)))\n",
    "        \n",
    "    return ordinals  "
   ]
  },
  {
   "cell_type": "code",
   "execution_count": 2,
   "metadata": {},
   "outputs": [
    {
     "name": "stdout",
     "output_type": "stream",
     "text": [
      "[46, 84, 65, 71, 72, 73, 73, 73, 78, 82, 83, 83, 83, 84]\n"
     ]
    }
   ],
   "source": [
    "ord_text = string_to_ordinal('This is a string.')\n",
    "print(ord_text)"
   ]
  },
  {
   "cell_type": "markdown",
   "metadata": {},
   "source": [
    "#### Rewrite function for efficiency:"
   ]
  },
  {
   "cell_type": "code",
   "execution_count": 3,
   "metadata": {},
   "outputs": [],
   "source": [
    "def string_to_ord_lite(txt):\n",
    "    ''' takes a string, converts to upper case, sorts it and converts characters to its ordinal values.\n",
    "        returns a list of representative ordinal values.'''\n",
    "    \n",
    "    # convert string to upper, strip white space, and sort\n",
    "    # remove .strip() if white space is to be preserved\n",
    "    txt_u = ''.join(sorted(txt)).upper().strip()\n",
    "    ordinals = [ord(char) for char in txt_u]\n",
    "    print(\"The sorted ordinal value result for characters in the string '{}' is {}.\".format(txt, ordinals))"
   ]
  },
  {
   "cell_type": "code",
   "execution_count": 4,
   "metadata": {},
   "outputs": [
    {
     "name": "stdout",
     "output_type": "stream",
     "text": [
      "The sorted ordinal value result for characters in the string 'Python Rules' is [80, 82, 69, 72, 76, 78, 79, 83, 84, 85, 89].\n"
     ]
    }
   ],
   "source": [
    "string_to_ord_lite('Python Rules')"
   ]
  }
 ],
 "metadata": {
  "kernelspec": {
   "display_name": "Python 3",
   "language": "python",
   "name": "python3"
  },
  "language_info": {
   "codemirror_mode": {
    "name": "ipython",
    "version": 3
   },
   "file_extension": ".py",
   "mimetype": "text/x-python",
   "name": "python",
   "nbconvert_exporter": "python",
   "pygments_lexer": "ipython3",
   "version": "3.8.3"
  }
 },
 "nbformat": 4,
 "nbformat_minor": 4
}
